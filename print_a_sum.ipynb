{
  "nbformat": 4,
  "nbformat_minor": 0,
  "metadata": {
    "colab": {
      "name": "Untitled0.ipynb",
      "provenance": [],
      "collapsed_sections": [],
      "mount_file_id": "1UVRw2Iyyg4cLlx2nIeMryya369uU2U6r",
      "authorship_tag": "ABX9TyOshTdxtYxQIANaC6I7lXMm",
      "include_colab_link": true
    },
    "kernelspec": {
      "name": "python3",
      "display_name": "Python 3"
    }
  },
  "cells": [
    {
      "cell_type": "markdown",
      "metadata": {
        "id": "view-in-github",
        "colab_type": "text"
      },
      "source": [
        "<a href=\"https://colab.research.google.com/github/ParadoxAlpha49/Python_Basics/blob/main/print_a_sum.ipynb\" target=\"_parent\"><img src=\"https://colab.research.google.com/assets/colab-badge.svg\" alt=\"Open In Colab\"/></a>"
      ]
    },
    {
      "cell_type": "code",
      "metadata": {
        "id": "sXWNf9qLw8vE",
        "outputId": "41f4a6c1-045b-495f-e9a6-ccadcb4ae20c",
        "colab": {
          "base_uri": "https://localhost:8080/",
          "height": 34
        }
      },
      "source": [
        "a = 3+6;\n",
        "print(\"the value of a is \", +a)"
      ],
      "execution_count": 1,
      "outputs": [
        {
          "output_type": "stream",
          "text": [
            "the value of a is  9\n"
          ],
          "name": "stdout"
        }
      ]
    }
  ]
}